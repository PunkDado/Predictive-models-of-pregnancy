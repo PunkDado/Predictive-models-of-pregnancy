from PRESTO_example_probability_calculator import pregnancy_probability 

pregnancy_probability()

'''
for example:

    Menstrual_cycle_length_days = 28
    Female_age_at_baseline_years = 25
    Urbanization_of_residential_area__rural = 0
    Previously_tried_to_conceive_for_greater_than_or_equal_to_12_months__yes = 0
    One_menstrual_cycle_of_attempt_time_at_study_entry = 1
    Daily_use_of_multivitamins_or_folic_acid = 1
    Last_method_of_contraception__hormonal_IUD = 0
    Female_BMI_kg_m2 = 25
    Ever_breastfed_an_infant = 1
    Ever_been_pregnant = 1
    Female_education_years = 16
    Received_influenza_vaccine_in_the_past_year = 1
    Perceived_Stress_Scale_score = 15
    Total_number_of_pregnancies = 1
    Urbanization_of_residential_area__Canada = 0
    Urbanization_of_residential_area__urban_cluster = 0
    Previously_tried_to_conceive_for_greater_than_or_equal_to_months__no_never_tried_before = 0
'''
