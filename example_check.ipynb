{
 "cells": [
  {
   "cell_type": "code",
   "execution_count": 11,
   "metadata": {},
   "outputs": [],
   "source": [
    "from PRESTO_example_probability_calculator import pregnancy_probability "
   ]
  },
  {
   "cell_type": "code",
   "execution_count": 14,
   "metadata": {
    "scrolled": true
   },
   "outputs": [
    {
     "name": "stdout",
     "output_type": "stream",
     "text": [
      "Enter Menstrual cycle length (days): 28\n",
      "Enter Female age at baseline (years): 25\n",
      "Enter 1 if Urbanization of residential area is rural, otherwise enter 0:  0\n",
      "Enter 1 if Previously tried to conceive for ≥12 months, otherwise enter 0:  0\n",
      "Enter 1 if One menstrual cycle of attempt time at study entry, otherwise enter 0: 1\n",
      "Enter 1 if Daily use of multivitamins/folic acid, otherwise enter 0: 1\n",
      "Enter 1 if Last method of contraception: hormonal IUD, otherwise enter 0: 0\n",
      "Enter Female BMI (kg/m2): 25\n",
      "Enter 1 if Ever breastfed an infant, otherwise enter 0: 1\n",
      "Enter 1 if Ever been pregnant, otherwise enter 0: 1\n",
      "Enter Female education (years): 16\n",
      "Enter 1 if Received influenza vaccine in the past year, otherwise enter 0: 1\n",
      "Enter Stress (Perceived Stress Scale score): 15\n",
      "Enter Total number of pregnancies: 1\n",
      "Enter 1 if Urbanization of residential area is Canada, otherwise enter 0:  0\n",
      "Enter 1 if Urbanization of residential area is urban cluster, otherwise enter 0:  0\n",
      "Enter 1 if the answer to question (Previously tried to conceive for ≥12 months) is “no, never tried before” (ref = “no, tried for < 12 months”), otherwise enter 0: 0\n",
      "The probability of pregnancy within 12 menstural cycles of pregnancy attempt time is: 0.3\n"
     ]
    }
   ],
   "source": [
    "pregnancy_probability()"
   ]
  },
  {
   "cell_type": "code",
   "execution_count": null,
   "metadata": {},
   "outputs": [],
   "source": [
    "'''\n",
    "for example:\n",
    "\n",
    "    Menstrual_cycle_length_days = 28\n",
    "    Female_age_at_baseline_years = 25\n",
    "    Urbanization_of_residential_area__rural = 0\n",
    "    Previously_tried_to_conceive_for_greater_than_or_equal_to_12_months__yes = 0\n",
    "    One_menstrual_cycle_of_attempt_time_at_study_entry = 1\n",
    "    Daily_use_of_multivitamins_or_folic_acid = 1\n",
    "    Last_method_of_contraception__hormonal_IUD = 0\n",
    "    Female_BMI_kg_m2 = 25\n",
    "    Ever_breastfed_an_infant = 1\n",
    "    Ever_been_pregnant = 1\n",
    "    Female_education_years = 16\n",
    "    Received_influenza_vaccine_in_the_past_year = 1\n",
    "    Perceived_Stress_Scale_score = 15\n",
    "    Total_number_of_pregnancies = 1\n",
    "    Urbanization_of_residential_area__Canada = 0\n",
    "    Urbanization_of_residential_area__urban_cluster = 0\n",
    "    Previously_tried_to_conceive_for_greater_than_or_equal_to_months__no_never_tried_before = 0\n",
    "'''"
   ]
  }
 ],
 "metadata": {
  "kernelspec": {
   "display_name": "Python 3",
   "language": "python",
   "name": "python3"
  },
  "language_info": {
   "codemirror_mode": {
    "name": "ipython",
    "version": 3
   },
   "file_extension": ".py",
   "mimetype": "text/x-python",
   "name": "python",
   "nbconvert_exporter": "python",
   "pygments_lexer": "ipython3",
   "version": "3.6.9"
  }
 },
 "nbformat": 4,
 "nbformat_minor": 2
}
